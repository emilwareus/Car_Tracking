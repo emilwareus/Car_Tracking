{
 "cells": [
  {
   "cell_type": "markdown",
   "metadata": {},
   "source": [
    "# Car Tracking project by Emil Wåreus\n"
   ]
  },
  {
   "cell_type": "code",
   "execution_count": 6,
   "metadata": {},
   "outputs": [],
   "source": [
    "\n",
    "import matplotlib.pyplot as plt\n",
    "import numpy as np\n",
    "import pickle\n",
    "import cv2\n",
    "from scipy.ndimage.measurements import label\n",
    "import matplotlib.image as mpimg\n",
    "import time\n",
    "from skimage.feature import hog "
   ]
  },
  {
   "cell_type": "markdown",
   "metadata": {
    "collapsed": true
   },
   "source": [
    "## Extract Features\n"
   ]
  },
  {
   "cell_type": "code",
   "execution_count": 7,
   "metadata": {
    "collapsed": true
   },
   "outputs": [],
   "source": [
    "def get_hog_features(img, orient, pix_per_cell, cell_per_block, \n",
    "                            vis=False, feature_vec=True):\n",
    "        # Call with two outputs if vis==True\n",
    "        if vis == True:\n",
    "            features, hog_image = hog(img, orientations=orient, \n",
    "                                      pixels_per_cell=(pix_per_cell, pix_per_cell),\n",
    "                                      cells_per_block=(cell_per_block, cell_per_block), \n",
    "                                      transform_sqrt=False, \n",
    "                                      visualise=vis, feature_vector=feature_vec)\n",
    "            return features, hog_image\n",
    "        # Otherwise call with one output\n",
    "        else:      \n",
    "            features = hog(img, orientations=orient, \n",
    "                           pixels_per_cell=(pix_per_cell, pix_per_cell),\n",
    "                           cells_per_block=(cell_per_block, cell_per_block), \n",
    "                           transform_sqrt=False, \n",
    "                           visualise=vis, feature_vector=feature_vec)\n",
    "            return features\n",
    "\n",
    "def bin_spatial(img, size=(32, 32)):\n",
    "    color1 = cv2.resize(img[:,:,0], size).ravel()\n",
    "    color2 = cv2.resize(img[:,:,1], size).ravel()\n",
    "    color3 = cv2.resize(img[:,:,2], size).ravel()\n",
    "    return np.hstack((color1, color2, color3))\n",
    "                            \n",
    "def color_hist(img, nbins=32):    #bins_range=(0, 256)\n",
    "    # Compute the histogram of the color channels separately\n",
    "    channel1_hist = np.histogram(img[:,:,0], bins=nbins, range=(0, 256))\n",
    "    channel2_hist = np.histogram(img[:,:,1], bins=nbins, range=(0, 256))\n",
    "    channel3_hist = np.histogram(img[:,:,2], bins=nbins, range=(0, 256))\n",
    "    # Concatenate the histograms into a single feature vector\n",
    "    hist_features = np.concatenate((channel1_hist[0], channel2_hist[0], channel3_hist[0]))\n",
    "    # Return the individual histograms, bin_centers and feature vector\n",
    "    return hist_features\n"
   ]
  },
  {
   "cell_type": "code",
   "execution_count": 8,
   "metadata": {
    "collapsed": true
   },
   "outputs": [],
   "source": [
    "def features_car(image, orient, pix_per_cell, cell_per_block, spatial_feat = True, hist_feat = True, hog_feat = True,\n",
    "             s_size=(32, 32), nbins = 32, hog_channel = 'ALL'):\n",
    "    file_features = []\n",
    "    if spatial_feat == True:\n",
    "        spatial_features = bin_spatial(image, size=s_size)\n",
    "        file_features.append(spatial_features)\n",
    "        \n",
    "    if hist_feat == True:  \n",
    "        hist_features = color_hist(image, nbins=nbins)\n",
    "        file_features.append(hist_features)\n",
    "        \n",
    "    if hog_feat == True:\n",
    "        if hog_channel == 'ALL':\n",
    "            hog_features = []\n",
    "            for channel in range(image.shape[2]):\n",
    "                \n",
    "                hog_features.append(get_hog_features(image[:,:,channel], \n",
    "                                        orient, pix_per_cell, cell_per_block, \n",
    "                                        vis=False, feature_vec=True))\n",
    "            hog_features = np.ravel(hog_features)        \n",
    "        else:\n",
    "            feature_image = cv2.cvtColor(image, cv2.COLOR_LUV2RGB)\n",
    "            feature_image = cv2.cvtColor(image, cv2.COLOR_RGB2GRAY)\n",
    "            hog_features = get_hog_features(image[:,:], orient, \n",
    "                            pix_per_cell, cell_per_block, vis=False, feature_vec=True)\n",
    "        file_features.append(hog_features)\n",
    "    return file_features\n",
    "\n",
    "# Define a function to extract features from a list of images\n",
    "def extract_features(imgs, cspace='RGB', orient=9, \n",
    "                        pix_per_cell=8, cell_per_block=2, hog_channel='ALL'):\n",
    "    # Create a list to append feature vectors to\n",
    "    features = []\n",
    "    # Iterate through the list of images\n",
    "    n_imgs = len(imgs)\n",
    "    i = 0\n",
    "    for file in imgs:\n",
    "        i = i + 1\n",
    "        # Read in each one by one\n",
    "        image = mpimg.imread(file)\n",
    "        # apply color conversion if other than 'RGB'\n",
    "        if cspace != 'RGB':\n",
    "            if cspace == 'HSV':\n",
    "                feature_image = cv2.cvtColor(image, cv2.COLOR_RGB2HSV)\n",
    "            elif cspace == 'LUV':\n",
    "                feature_image = cv2.cvtColor(image, cv2.COLOR_RGB2LUV)\n",
    "            elif cspace == 'HLS':\n",
    "                feature_image = cv2.cvtColor(image, cv2.COLOR_RGB2HLS)\n",
    "            elif cspace == 'YUV':\n",
    "                feature_image = cv2.cvtColor(image, cv2.COLOR_RGB2YUV)\n",
    "            elif cspace == 'YCrCb':\n",
    "                feature_image = cv2.cvtColor(image, cv2.COLOR_RGB2YCrCb)\n",
    "        else: feature_image = np.copy(image)      \n",
    "        \n",
    "        features_file = features_car(image = feature_image, \n",
    "                                 orient = orient, \n",
    "                                 pix_per_cell = pix_per_cell, \n",
    "                                 cell_per_block = cell_per_block, \n",
    "                                 spatial_feat = True, \n",
    "                                 hist_feat = True, \n",
    "                                 hog_feat = True,\n",
    "                                 s_size=(32, 32), \n",
    "                                 nbins = 32, \n",
    "                                 hog_channel = hog_channel)\n",
    "        \n",
    "            \n",
    "        \n",
    "        features.append(np.concatenate(features_file))\n",
    "        \n",
    "        fliped_image=cv2.flip(feature_image,1)\n",
    "        features_file = features_car(image = fliped_image, \n",
    "                                 orient = orient, \n",
    "                                 pix_per_cell = pix_per_cell, \n",
    "                                 cell_per_block = cell_per_block, \n",
    "                                 spatial_feat = True, \n",
    "                                 hist_feat = True, \n",
    "                                 hog_feat = True,\n",
    "                                 s_size=(32, 32), \n",
    "                                 nbins = 32, \n",
    "                                 hog_channel = hog_channel)  \n",
    "        features.append(np.concatenate(features_file))\n",
    "        if (i % int(n_imgs/10)) == 0:\n",
    "            print(i, \" of \", n_imgs, \".. \", int(100*(float(i)/n_imgs)), \"%\")\n",
    "            \n",
    "    # Return list of feature vectors\n",
    "    return features"
   ]
  },
  {
   "cell_type": "markdown",
   "metadata": {},
   "source": [
    "## Lets train a classifier!! "
   ]
  },
  {
   "cell_type": "code",
   "execution_count": 9,
   "metadata": {},
   "outputs": [
    {
     "name": "stdout",
     "output_type": "stream",
     "text": [
      "Number of cars :  8792\n",
      "Number of none-cars :  8968\n"
     ]
    }
   ],
   "source": [
    "#Load the data\n",
    "import glob\n",
    "cars = []\n",
    "not_cars = []\n",
    "for img in glob.glob('*data/non-vehicles/*/*.png'):\n",
    "    not_cars.append(img)\n",
    "    \n",
    "    \n",
    "for img in glob.glob(\"data/vehicles/*/*.png\"):\n",
    "    cars.append(img)\n",
    "\n",
    "\n",
    "print(\"Number of cars : \", len(cars))\n",
    "print(\"Number of none-cars : \", len(not_cars))"
   ]
  },
  {
   "cell_type": "code",
   "execution_count": 10,
   "metadata": {
    "scrolled": true
   },
   "outputs": [
    {
     "name": "stderr",
     "output_type": "stream",
     "text": [
      "C:\\ProgramData\\Anaconda3\\envs\\carnd-term1\\lib\\site-packages\\skimage\\feature\\_hog.py:119: skimage_deprecation: Default value of `block_norm`==`L1` is deprecated and will be changed to `L2-Hys` in v0.15\n",
      "  'be changed to `L2-Hys` in v0.15', skimage_deprecation)\n"
     ]
    },
    {
     "name": "stdout",
     "output_type": "stream",
     "text": [
      "879  of  8792 .. in %:  9\n",
      "1758  of  8792 .. in %:  19\n",
      "2637  of  8792 .. in %:  29\n",
      "3516  of  8792 .. in %:  39\n",
      "4395  of  8792 .. in %:  49\n",
      "5274  of  8792 .. in %:  59\n",
      "6153  of  8792 .. in %:  69\n",
      "7032  of  8792 .. in %:  79\n",
      "7911  of  8792 .. in %:  89\n",
      "8790  of  8792 .. in %:  99\n",
      "896  of  8968 .. in %:  9\n",
      "1792  of  8968 .. in %:  19\n",
      "2688  of  8968 .. in %:  29\n",
      "3584  of  8968 .. in %:  39\n",
      "4480  of  8968 .. in %:  49\n",
      "5376  of  8968 .. in %:  59\n",
      "6272  of  8968 .. in %:  69\n",
      "7168  of  8968 .. in %:  79\n",
      "8064  of  8968 .. in %:  89\n",
      "8960  of  8968 .. in %:  99\n",
      "Number of cars :  17584\n",
      "Number of none-cars :  17936\n"
     ]
    }
   ],
   "source": [
    "cspace='RGB'\n",
    "orient=9\n",
    "pix_per_cell=8\n",
    "cell_per_block=2\n",
    "hog_channel='ALL'\n",
    "\n",
    "car_features = extract_features(imgs = cars, \n",
    "                                cspace=cspace, \n",
    "                                orient=orient, \n",
    "                                pix_per_cell=pix_per_cell, \n",
    "                                cell_per_block=cell_per_block, \n",
    "                                hog_channel=hog_channel)\n",
    "\n",
    "\n",
    "\n",
    "not_cars_features = extract_features(imgs = not_cars, \n",
    "                                cspace=cspace, \n",
    "                                orient=orient, \n",
    "                                pix_per_cell=pix_per_cell, \n",
    "                                cell_per_block=cell_per_block, \n",
    "                                hog_channel=hog_channel)\n",
    "    \n",
    "print(\"Number of cars : \", len(car_features))\n",
    "print(\"Number of none-cars : \", len(not_cars_features))\n"
   ]
  },
  {
   "cell_type": "code",
   "execution_count": null,
   "metadata": {},
   "outputs": [
    {
     "name": "stdout",
     "output_type": "stream",
     "text": [
      "35520\n",
      "X Done\n",
      "Y Done\n"
     ]
    }
   ],
   "source": [
    "from sklearn.preprocessing import StandardScaler\n",
    "from sklearn.model_selection import train_test_split\n",
    "from sklearn.svm import LinearSVC\n",
    "\n",
    "print(len(car_features) + len(not_cars_features))\n",
    "use_data = 5000\n",
    "\n",
    "# Building a classifier:\n",
    "X = np.vstack((car_features[:use_data], not_cars_features[:use_data])).astype(np.float64)\n",
    "print(\"X Done\")\n",
    "Y = np.hstack((np.ones(len(car_features[:use_data])), np.zeros(len(not_cars_features[:use_data]))))\n",
    "print(\"Y Done\")\n",
    "X_scaler = StandardScaler().fit(X) # Fit a per-column scaler\n",
    "scaled_X = X_scaler.transform(X) # Apply the scaler to X\n",
    "\n",
    "X_train, X_test, Y_train, Y_test = train_test_split(scaled_X, Y, test_size = 0.2, random_state=22)\n"
   ]
  },
  {
   "cell_type": "code",
   "execution_count": null,
   "metadata": {
    "collapsed": true
   },
   "outputs": [],
   "source": [
    "#Train support vector Machine\n",
    "SVC = LinearSVC(loss = 'hinge')\n",
    "SVC.fit(X_train, Y_train)\n",
    "print(\"Accuracy of SVC : \", round(SVC.score(X_test, Y_test), 5))\n"
   ]
  }
 ],
 "metadata": {
  "kernelspec": {
   "display_name": "Python 3",
   "language": "python",
   "name": "python3"
  },
  "language_info": {
   "codemirror_mode": {
    "name": "ipython",
    "version": 3
   },
   "file_extension": ".py",
   "mimetype": "text/x-python",
   "name": "python",
   "nbconvert_exporter": "python",
   "pygments_lexer": "ipython3",
   "version": "3.5.2"
  },
  "widgets": {
   "state": {},
   "version": "1.1.2"
  }
 },
 "nbformat": 4,
 "nbformat_minor": 2
}
